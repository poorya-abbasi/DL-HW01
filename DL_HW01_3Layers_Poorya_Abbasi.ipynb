{
  "nbformat": 4,
  "nbformat_minor": 0,
  "metadata": {
    "colab": {
      "name": "DL-HW01-3Layers-Poorya Abbasi",
      "provenance": [],
      "collapsed_sections": [],
      "include_colab_link": true
    },
    "kernelspec": {
      "name": "python3",
      "display_name": "Python 3"
    },
    "language_info": {
      "name": "python"
    }
  },
  "cells": [
    {
      "cell_type": "markdown",
      "metadata": {
        "id": "view-in-github",
        "colab_type": "text"
      },
      "source": [
        "<a href=\"https://colab.research.google.com/github/poorya-abbasi/DL-HW01/blob/main/DL_HW01_3Layers_Poorya_Abbasi.ipynb\" target=\"_parent\"><img src=\"https://colab.research.google.com/assets/colab-badge.svg\" alt=\"Open In Colab\"/></a>"
      ]
    },
    {
      "cell_type": "markdown",
      "source": [
        "# ***Libraries & Constants***"
      ],
      "metadata": {
        "id": "TopdEIaCyasv"
      }
    },
    {
      "cell_type": "code",
      "execution_count": 2,
      "metadata": {
        "id": "8wXLgz_EYiFr"
      },
      "outputs": [],
      "source": [
        "import os\n",
        "import pandas as pd\n",
        "import seaborn as sns\n",
        "import numpy as np\n",
        "import matplotlib.pyplot as plt\n",
        "from sklearn.preprocessing import LabelEncoder\n",
        "from sklearn.model_selection import train_test_split"
      ]
    },
    {
      "cell_type": "code",
      "source": [
        "!gdown --id 1-Zyp-JP3f9QhPKaErBkPPFNKaPS1v74u"
      ],
      "metadata": {
        "colab": {
          "base_uri": "https://localhost:8080/"
        },
        "id": "lirSlJSTYqd6",
        "outputId": "e04e2bf1-9898-44c9-dd1d-b53873f5e8ef"
      },
      "execution_count": 5,
      "outputs": [
        {
          "output_type": "stream",
          "name": "stdout",
          "text": [
            "Downloading...\n",
            "From: https://drive.google.com/uc?id=1-Zyp-JP3f9QhPKaErBkPPFNKaPS1v74u\n",
            "To: /content/Dataset.csv\n",
            "\r  0% 0.00/38.0k [00:00<?, ?B/s]\r100% 38.0k/38.0k [00:00<00:00, 27.5MB/s]\n"
          ]
        }
      ]
    },
    {
      "cell_type": "code",
      "source": [
        "categorical_attr = ['gender', 'NationalITy', 'PlaceofBirth', 'StageID', 'GradeID', 'SectionID', 'Topic', 'Semester', 'Relation', 'ParentAnsweringSurvey', 'ParentschoolSatisfaction', 'StudentAbsenceDays', 'Class']"
      ],
      "metadata": {
        "id": "WrvvhoNxYtkt"
      },
      "execution_count": 3,
      "outputs": []
    },
    {
      "cell_type": "markdown",
      "source": [
        "# ***Preprocessing***\n",
        "\n",
        "Reading & displaying data:"
      ],
      "metadata": {
        "id": "iZ0yQWRPY2vx"
      }
    },
    {
      "cell_type": "code",
      "source": [
        "df = pd.read_csv('/content/Dataset.csv')\n",
        "df.head()"
      ],
      "metadata": {
        "colab": {
          "base_uri": "https://localhost:8080/",
          "height": 270
        },
        "id": "BVPm_CFfYxjw",
        "outputId": "8047e446-725b-4bb0-f505-e789ada3ffdc"
      },
      "execution_count": 6,
      "outputs": [
        {
          "output_type": "execute_result",
          "data": {
            "text/plain": [
              "  gender NationalITy PlaceofBirth     StageID GradeID SectionID Topic  \\\n",
              "0      M          KW       KuwaIT  lowerlevel    G-04         A    IT   \n",
              "1      M          KW       KuwaIT  lowerlevel    G-04         A    IT   \n",
              "2      M          KW       KuwaIT  lowerlevel    G-04         A    IT   \n",
              "3      M          KW       KuwaIT  lowerlevel    G-04         A    IT   \n",
              "4      M          KW       KuwaIT  lowerlevel    G-04         A    IT   \n",
              "\n",
              "  Semester Relation  raisedhands  VisITedResources  AnnouncementsView  \\\n",
              "0        F   Father           15                16                  2   \n",
              "1        F   Father           20                20                  3   \n",
              "2        F   Father           10                 7                  0   \n",
              "3        F   Father           30                25                  5   \n",
              "4        F   Father           40                50                 12   \n",
              "\n",
              "   Discussion ParentAnsweringSurvey ParentschoolSatisfaction  \\\n",
              "0          20                   Yes                     Good   \n",
              "1          25                   Yes                     Good   \n",
              "2          30                    No                      Bad   \n",
              "3          35                    No                      Bad   \n",
              "4          50                    No                      Bad   \n",
              "\n",
              "  StudentAbsenceDays Class  \n",
              "0            Under-7     M  \n",
              "1            Under-7     M  \n",
              "2            Above-7     L  \n",
              "3            Above-7     L  \n",
              "4            Above-7     M  "
            ],
            "text/html": [
              "\n",
              "  <div id=\"df-984c8518-b561-498a-b4f6-4babf40fb63b\">\n",
              "    <div class=\"colab-df-container\">\n",
              "      <div>\n",
              "<style scoped>\n",
              "    .dataframe tbody tr th:only-of-type {\n",
              "        vertical-align: middle;\n",
              "    }\n",
              "\n",
              "    .dataframe tbody tr th {\n",
              "        vertical-align: top;\n",
              "    }\n",
              "\n",
              "    .dataframe thead th {\n",
              "        text-align: right;\n",
              "    }\n",
              "</style>\n",
              "<table border=\"1\" class=\"dataframe\">\n",
              "  <thead>\n",
              "    <tr style=\"text-align: right;\">\n",
              "      <th></th>\n",
              "      <th>gender</th>\n",
              "      <th>NationalITy</th>\n",
              "      <th>PlaceofBirth</th>\n",
              "      <th>StageID</th>\n",
              "      <th>GradeID</th>\n",
              "      <th>SectionID</th>\n",
              "      <th>Topic</th>\n",
              "      <th>Semester</th>\n",
              "      <th>Relation</th>\n",
              "      <th>raisedhands</th>\n",
              "      <th>VisITedResources</th>\n",
              "      <th>AnnouncementsView</th>\n",
              "      <th>Discussion</th>\n",
              "      <th>ParentAnsweringSurvey</th>\n",
              "      <th>ParentschoolSatisfaction</th>\n",
              "      <th>StudentAbsenceDays</th>\n",
              "      <th>Class</th>\n",
              "    </tr>\n",
              "  </thead>\n",
              "  <tbody>\n",
              "    <tr>\n",
              "      <th>0</th>\n",
              "      <td>M</td>\n",
              "      <td>KW</td>\n",
              "      <td>KuwaIT</td>\n",
              "      <td>lowerlevel</td>\n",
              "      <td>G-04</td>\n",
              "      <td>A</td>\n",
              "      <td>IT</td>\n",
              "      <td>F</td>\n",
              "      <td>Father</td>\n",
              "      <td>15</td>\n",
              "      <td>16</td>\n",
              "      <td>2</td>\n",
              "      <td>20</td>\n",
              "      <td>Yes</td>\n",
              "      <td>Good</td>\n",
              "      <td>Under-7</td>\n",
              "      <td>M</td>\n",
              "    </tr>\n",
              "    <tr>\n",
              "      <th>1</th>\n",
              "      <td>M</td>\n",
              "      <td>KW</td>\n",
              "      <td>KuwaIT</td>\n",
              "      <td>lowerlevel</td>\n",
              "      <td>G-04</td>\n",
              "      <td>A</td>\n",
              "      <td>IT</td>\n",
              "      <td>F</td>\n",
              "      <td>Father</td>\n",
              "      <td>20</td>\n",
              "      <td>20</td>\n",
              "      <td>3</td>\n",
              "      <td>25</td>\n",
              "      <td>Yes</td>\n",
              "      <td>Good</td>\n",
              "      <td>Under-7</td>\n",
              "      <td>M</td>\n",
              "    </tr>\n",
              "    <tr>\n",
              "      <th>2</th>\n",
              "      <td>M</td>\n",
              "      <td>KW</td>\n",
              "      <td>KuwaIT</td>\n",
              "      <td>lowerlevel</td>\n",
              "      <td>G-04</td>\n",
              "      <td>A</td>\n",
              "      <td>IT</td>\n",
              "      <td>F</td>\n",
              "      <td>Father</td>\n",
              "      <td>10</td>\n",
              "      <td>7</td>\n",
              "      <td>0</td>\n",
              "      <td>30</td>\n",
              "      <td>No</td>\n",
              "      <td>Bad</td>\n",
              "      <td>Above-7</td>\n",
              "      <td>L</td>\n",
              "    </tr>\n",
              "    <tr>\n",
              "      <th>3</th>\n",
              "      <td>M</td>\n",
              "      <td>KW</td>\n",
              "      <td>KuwaIT</td>\n",
              "      <td>lowerlevel</td>\n",
              "      <td>G-04</td>\n",
              "      <td>A</td>\n",
              "      <td>IT</td>\n",
              "      <td>F</td>\n",
              "      <td>Father</td>\n",
              "      <td>30</td>\n",
              "      <td>25</td>\n",
              "      <td>5</td>\n",
              "      <td>35</td>\n",
              "      <td>No</td>\n",
              "      <td>Bad</td>\n",
              "      <td>Above-7</td>\n",
              "      <td>L</td>\n",
              "    </tr>\n",
              "    <tr>\n",
              "      <th>4</th>\n",
              "      <td>M</td>\n",
              "      <td>KW</td>\n",
              "      <td>KuwaIT</td>\n",
              "      <td>lowerlevel</td>\n",
              "      <td>G-04</td>\n",
              "      <td>A</td>\n",
              "      <td>IT</td>\n",
              "      <td>F</td>\n",
              "      <td>Father</td>\n",
              "      <td>40</td>\n",
              "      <td>50</td>\n",
              "      <td>12</td>\n",
              "      <td>50</td>\n",
              "      <td>No</td>\n",
              "      <td>Bad</td>\n",
              "      <td>Above-7</td>\n",
              "      <td>M</td>\n",
              "    </tr>\n",
              "  </tbody>\n",
              "</table>\n",
              "</div>\n",
              "      <button class=\"colab-df-convert\" onclick=\"convertToInteractive('df-984c8518-b561-498a-b4f6-4babf40fb63b')\"\n",
              "              title=\"Convert this dataframe to an interactive table.\"\n",
              "              style=\"display:none;\">\n",
              "        \n",
              "  <svg xmlns=\"http://www.w3.org/2000/svg\" height=\"24px\"viewBox=\"0 0 24 24\"\n",
              "       width=\"24px\">\n",
              "    <path d=\"M0 0h24v24H0V0z\" fill=\"none\"/>\n",
              "    <path d=\"M18.56 5.44l.94 2.06.94-2.06 2.06-.94-2.06-.94-.94-2.06-.94 2.06-2.06.94zm-11 1L8.5 8.5l.94-2.06 2.06-.94-2.06-.94L8.5 2.5l-.94 2.06-2.06.94zm10 10l.94 2.06.94-2.06 2.06-.94-2.06-.94-.94-2.06-.94 2.06-2.06.94z\"/><path d=\"M17.41 7.96l-1.37-1.37c-.4-.4-.92-.59-1.43-.59-.52 0-1.04.2-1.43.59L10.3 9.45l-7.72 7.72c-.78.78-.78 2.05 0 2.83L4 21.41c.39.39.9.59 1.41.59.51 0 1.02-.2 1.41-.59l7.78-7.78 2.81-2.81c.8-.78.8-2.07 0-2.86zM5.41 20L4 18.59l7.72-7.72 1.47 1.35L5.41 20z\"/>\n",
              "  </svg>\n",
              "      </button>\n",
              "      \n",
              "  <style>\n",
              "    .colab-df-container {\n",
              "      display:flex;\n",
              "      flex-wrap:wrap;\n",
              "      gap: 12px;\n",
              "    }\n",
              "\n",
              "    .colab-df-convert {\n",
              "      background-color: #E8F0FE;\n",
              "      border: none;\n",
              "      border-radius: 50%;\n",
              "      cursor: pointer;\n",
              "      display: none;\n",
              "      fill: #1967D2;\n",
              "      height: 32px;\n",
              "      padding: 0 0 0 0;\n",
              "      width: 32px;\n",
              "    }\n",
              "\n",
              "    .colab-df-convert:hover {\n",
              "      background-color: #E2EBFA;\n",
              "      box-shadow: 0px 1px 2px rgba(60, 64, 67, 0.3), 0px 1px 3px 1px rgba(60, 64, 67, 0.15);\n",
              "      fill: #174EA6;\n",
              "    }\n",
              "\n",
              "    [theme=dark] .colab-df-convert {\n",
              "      background-color: #3B4455;\n",
              "      fill: #D2E3FC;\n",
              "    }\n",
              "\n",
              "    [theme=dark] .colab-df-convert:hover {\n",
              "      background-color: #434B5C;\n",
              "      box-shadow: 0px 1px 3px 1px rgba(0, 0, 0, 0.15);\n",
              "      filter: drop-shadow(0px 1px 2px rgba(0, 0, 0, 0.3));\n",
              "      fill: #FFFFFF;\n",
              "    }\n",
              "  </style>\n",
              "\n",
              "      <script>\n",
              "        const buttonEl =\n",
              "          document.querySelector('#df-984c8518-b561-498a-b4f6-4babf40fb63b button.colab-df-convert');\n",
              "        buttonEl.style.display =\n",
              "          google.colab.kernel.accessAllowed ? 'block' : 'none';\n",
              "\n",
              "        async function convertToInteractive(key) {\n",
              "          const element = document.querySelector('#df-984c8518-b561-498a-b4f6-4babf40fb63b');\n",
              "          const dataTable =\n",
              "            await google.colab.kernel.invokeFunction('convertToInteractive',\n",
              "                                                     [key], {});\n",
              "          if (!dataTable) return;\n",
              "\n",
              "          const docLinkHtml = 'Like what you see? Visit the ' +\n",
              "            '<a target=\"_blank\" href=https://colab.research.google.com/notebooks/data_table.ipynb>data table notebook</a>'\n",
              "            + ' to learn more about interactive tables.';\n",
              "          element.innerHTML = '';\n",
              "          dataTable['output_type'] = 'display_data';\n",
              "          await google.colab.output.renderOutput(dataTable, element);\n",
              "          const docLink = document.createElement('div');\n",
              "          docLink.innerHTML = docLinkHtml;\n",
              "          element.appendChild(docLink);\n",
              "        }\n",
              "      </script>\n",
              "    </div>\n",
              "  </div>\n",
              "  "
            ]
          },
          "metadata": {},
          "execution_count": 6
        }
      ]
    },
    {
      "cell_type": "code",
      "source": [
        "print(df.shape)"
      ],
      "metadata": {
        "colab": {
          "base_uri": "https://localhost:8080/"
        },
        "id": "oDkmtX73p6S1",
        "outputId": "63de1abb-edac-4874-d423-532093a5202e"
      },
      "execution_count": 7,
      "outputs": [
        {
          "output_type": "stream",
          "name": "stdout",
          "text": [
            "(480, 17)\n"
          ]
        }
      ]
    },
    {
      "cell_type": "code",
      "source": [
        "# Converting Categorical values to scaler values\n",
        "le = LabelEncoder()\n",
        "# Replacing H with M to make the choice scaler between 0 and 1\n",
        "df['Class'] = df['Class'].replace('H','M')\n",
        "df[categorical_attr] = df[categorical_attr].apply(le.fit_transform, axis=0)"
      ],
      "metadata": {
        "id": "8o2lOEhwZEx_"
      },
      "execution_count": 8,
      "outputs": []
    },
    {
      "cell_type": "code",
      "source": [
        "df.head()"
      ],
      "metadata": {
        "colab": {
          "base_uri": "https://localhost:8080/",
          "height": 270
        },
        "id": "gKyEl77qy56y",
        "outputId": "d1ce6f06-88b8-4acf-96b0-fe4b86cbfd3f"
      },
      "execution_count": 9,
      "outputs": [
        {
          "output_type": "execute_result",
          "data": {
            "text/plain": [
              "   gender  NationalITy  PlaceofBirth  StageID  GradeID  SectionID  Topic  \\\n",
              "0       1            4             4        2        1          0      7   \n",
              "1       1            4             4        2        1          0      7   \n",
              "2       1            4             4        2        1          0      7   \n",
              "3       1            4             4        2        1          0      7   \n",
              "4       1            4             4        2        1          0      7   \n",
              "\n",
              "   Semester  Relation  raisedhands  VisITedResources  AnnouncementsView  \\\n",
              "0         0         0           15                16                  2   \n",
              "1         0         0           20                20                  3   \n",
              "2         0         0           10                 7                  0   \n",
              "3         0         0           30                25                  5   \n",
              "4         0         0           40                50                 12   \n",
              "\n",
              "   Discussion  ParentAnsweringSurvey  ParentschoolSatisfaction  \\\n",
              "0          20                      1                         1   \n",
              "1          25                      1                         1   \n",
              "2          30                      0                         0   \n",
              "3          35                      0                         0   \n",
              "4          50                      0                         0   \n",
              "\n",
              "   StudentAbsenceDays  Class  \n",
              "0                   1      1  \n",
              "1                   1      1  \n",
              "2                   0      0  \n",
              "3                   0      0  \n",
              "4                   0      1  "
            ],
            "text/html": [
              "\n",
              "  <div id=\"df-07e8cd4c-2c64-4e1c-a529-6b08c1603928\">\n",
              "    <div class=\"colab-df-container\">\n",
              "      <div>\n",
              "<style scoped>\n",
              "    .dataframe tbody tr th:only-of-type {\n",
              "        vertical-align: middle;\n",
              "    }\n",
              "\n",
              "    .dataframe tbody tr th {\n",
              "        vertical-align: top;\n",
              "    }\n",
              "\n",
              "    .dataframe thead th {\n",
              "        text-align: right;\n",
              "    }\n",
              "</style>\n",
              "<table border=\"1\" class=\"dataframe\">\n",
              "  <thead>\n",
              "    <tr style=\"text-align: right;\">\n",
              "      <th></th>\n",
              "      <th>gender</th>\n",
              "      <th>NationalITy</th>\n",
              "      <th>PlaceofBirth</th>\n",
              "      <th>StageID</th>\n",
              "      <th>GradeID</th>\n",
              "      <th>SectionID</th>\n",
              "      <th>Topic</th>\n",
              "      <th>Semester</th>\n",
              "      <th>Relation</th>\n",
              "      <th>raisedhands</th>\n",
              "      <th>VisITedResources</th>\n",
              "      <th>AnnouncementsView</th>\n",
              "      <th>Discussion</th>\n",
              "      <th>ParentAnsweringSurvey</th>\n",
              "      <th>ParentschoolSatisfaction</th>\n",
              "      <th>StudentAbsenceDays</th>\n",
              "      <th>Class</th>\n",
              "    </tr>\n",
              "  </thead>\n",
              "  <tbody>\n",
              "    <tr>\n",
              "      <th>0</th>\n",
              "      <td>1</td>\n",
              "      <td>4</td>\n",
              "      <td>4</td>\n",
              "      <td>2</td>\n",
              "      <td>1</td>\n",
              "      <td>0</td>\n",
              "      <td>7</td>\n",
              "      <td>0</td>\n",
              "      <td>0</td>\n",
              "      <td>15</td>\n",
              "      <td>16</td>\n",
              "      <td>2</td>\n",
              "      <td>20</td>\n",
              "      <td>1</td>\n",
              "      <td>1</td>\n",
              "      <td>1</td>\n",
              "      <td>1</td>\n",
              "    </tr>\n",
              "    <tr>\n",
              "      <th>1</th>\n",
              "      <td>1</td>\n",
              "      <td>4</td>\n",
              "      <td>4</td>\n",
              "      <td>2</td>\n",
              "      <td>1</td>\n",
              "      <td>0</td>\n",
              "      <td>7</td>\n",
              "      <td>0</td>\n",
              "      <td>0</td>\n",
              "      <td>20</td>\n",
              "      <td>20</td>\n",
              "      <td>3</td>\n",
              "      <td>25</td>\n",
              "      <td>1</td>\n",
              "      <td>1</td>\n",
              "      <td>1</td>\n",
              "      <td>1</td>\n",
              "    </tr>\n",
              "    <tr>\n",
              "      <th>2</th>\n",
              "      <td>1</td>\n",
              "      <td>4</td>\n",
              "      <td>4</td>\n",
              "      <td>2</td>\n",
              "      <td>1</td>\n",
              "      <td>0</td>\n",
              "      <td>7</td>\n",
              "      <td>0</td>\n",
              "      <td>0</td>\n",
              "      <td>10</td>\n",
              "      <td>7</td>\n",
              "      <td>0</td>\n",
              "      <td>30</td>\n",
              "      <td>0</td>\n",
              "      <td>0</td>\n",
              "      <td>0</td>\n",
              "      <td>0</td>\n",
              "    </tr>\n",
              "    <tr>\n",
              "      <th>3</th>\n",
              "      <td>1</td>\n",
              "      <td>4</td>\n",
              "      <td>4</td>\n",
              "      <td>2</td>\n",
              "      <td>1</td>\n",
              "      <td>0</td>\n",
              "      <td>7</td>\n",
              "      <td>0</td>\n",
              "      <td>0</td>\n",
              "      <td>30</td>\n",
              "      <td>25</td>\n",
              "      <td>5</td>\n",
              "      <td>35</td>\n",
              "      <td>0</td>\n",
              "      <td>0</td>\n",
              "      <td>0</td>\n",
              "      <td>0</td>\n",
              "    </tr>\n",
              "    <tr>\n",
              "      <th>4</th>\n",
              "      <td>1</td>\n",
              "      <td>4</td>\n",
              "      <td>4</td>\n",
              "      <td>2</td>\n",
              "      <td>1</td>\n",
              "      <td>0</td>\n",
              "      <td>7</td>\n",
              "      <td>0</td>\n",
              "      <td>0</td>\n",
              "      <td>40</td>\n",
              "      <td>50</td>\n",
              "      <td>12</td>\n",
              "      <td>50</td>\n",
              "      <td>0</td>\n",
              "      <td>0</td>\n",
              "      <td>0</td>\n",
              "      <td>1</td>\n",
              "    </tr>\n",
              "  </tbody>\n",
              "</table>\n",
              "</div>\n",
              "      <button class=\"colab-df-convert\" onclick=\"convertToInteractive('df-07e8cd4c-2c64-4e1c-a529-6b08c1603928')\"\n",
              "              title=\"Convert this dataframe to an interactive table.\"\n",
              "              style=\"display:none;\">\n",
              "        \n",
              "  <svg xmlns=\"http://www.w3.org/2000/svg\" height=\"24px\"viewBox=\"0 0 24 24\"\n",
              "       width=\"24px\">\n",
              "    <path d=\"M0 0h24v24H0V0z\" fill=\"none\"/>\n",
              "    <path d=\"M18.56 5.44l.94 2.06.94-2.06 2.06-.94-2.06-.94-.94-2.06-.94 2.06-2.06.94zm-11 1L8.5 8.5l.94-2.06 2.06-.94-2.06-.94L8.5 2.5l-.94 2.06-2.06.94zm10 10l.94 2.06.94-2.06 2.06-.94-2.06-.94-.94-2.06-.94 2.06-2.06.94z\"/><path d=\"M17.41 7.96l-1.37-1.37c-.4-.4-.92-.59-1.43-.59-.52 0-1.04.2-1.43.59L10.3 9.45l-7.72 7.72c-.78.78-.78 2.05 0 2.83L4 21.41c.39.39.9.59 1.41.59.51 0 1.02-.2 1.41-.59l7.78-7.78 2.81-2.81c.8-.78.8-2.07 0-2.86zM5.41 20L4 18.59l7.72-7.72 1.47 1.35L5.41 20z\"/>\n",
              "  </svg>\n",
              "      </button>\n",
              "      \n",
              "  <style>\n",
              "    .colab-df-container {\n",
              "      display:flex;\n",
              "      flex-wrap:wrap;\n",
              "      gap: 12px;\n",
              "    }\n",
              "\n",
              "    .colab-df-convert {\n",
              "      background-color: #E8F0FE;\n",
              "      border: none;\n",
              "      border-radius: 50%;\n",
              "      cursor: pointer;\n",
              "      display: none;\n",
              "      fill: #1967D2;\n",
              "      height: 32px;\n",
              "      padding: 0 0 0 0;\n",
              "      width: 32px;\n",
              "    }\n",
              "\n",
              "    .colab-df-convert:hover {\n",
              "      background-color: #E2EBFA;\n",
              "      box-shadow: 0px 1px 2px rgba(60, 64, 67, 0.3), 0px 1px 3px 1px rgba(60, 64, 67, 0.15);\n",
              "      fill: #174EA6;\n",
              "    }\n",
              "\n",
              "    [theme=dark] .colab-df-convert {\n",
              "      background-color: #3B4455;\n",
              "      fill: #D2E3FC;\n",
              "    }\n",
              "\n",
              "    [theme=dark] .colab-df-convert:hover {\n",
              "      background-color: #434B5C;\n",
              "      box-shadow: 0px 1px 3px 1px rgba(0, 0, 0, 0.15);\n",
              "      filter: drop-shadow(0px 1px 2px rgba(0, 0, 0, 0.3));\n",
              "      fill: #FFFFFF;\n",
              "    }\n",
              "  </style>\n",
              "\n",
              "      <script>\n",
              "        const buttonEl =\n",
              "          document.querySelector('#df-07e8cd4c-2c64-4e1c-a529-6b08c1603928 button.colab-df-convert');\n",
              "        buttonEl.style.display =\n",
              "          google.colab.kernel.accessAllowed ? 'block' : 'none';\n",
              "\n",
              "        async function convertToInteractive(key) {\n",
              "          const element = document.querySelector('#df-07e8cd4c-2c64-4e1c-a529-6b08c1603928');\n",
              "          const dataTable =\n",
              "            await google.colab.kernel.invokeFunction('convertToInteractive',\n",
              "                                                     [key], {});\n",
              "          if (!dataTable) return;\n",
              "\n",
              "          const docLinkHtml = 'Like what you see? Visit the ' +\n",
              "            '<a target=\"_blank\" href=https://colab.research.google.com/notebooks/data_table.ipynb>data table notebook</a>'\n",
              "            + ' to learn more about interactive tables.';\n",
              "          element.innerHTML = '';\n",
              "          dataTable['output_type'] = 'display_data';\n",
              "          await google.colab.output.renderOutput(dataTable, element);\n",
              "          const docLink = document.createElement('div');\n",
              "          docLink.innerHTML = docLinkHtml;\n",
              "          element.appendChild(docLink);\n",
              "        }\n",
              "      </script>\n",
              "    </div>\n",
              "  </div>\n",
              "  "
            ]
          },
          "metadata": {},
          "execution_count": 9
        }
      ]
    },
    {
      "cell_type": "code",
      "source": [
        "# X: Features, y: Classes\n",
        "X = np.array(df.iloc[:, :-1])\n",
        "y = np.array(df['Class'])\n"
      ],
      "metadata": {
        "id": "taUy4jmjZJRN"
      },
      "execution_count": 10,
      "outputs": []
    },
    {
      "cell_type": "code",
      "source": [
        "# Deviding Dataset to training and validation set\n",
        "X_train, X_val, y_train, y_val = train_test_split(X, y, test_size=0.2, random_state=12)"
      ],
      "metadata": {
        "id": "nBMIXI-aZKGw"
      },
      "execution_count": 11,
      "outputs": []
    },
    {
      "cell_type": "code",
      "source": [
        "print('Number of dataset: ', len(X))\n",
        "print('Number of train set: ', len(X_train))\n",
        "print('Number of validation set: ', len(X_val))\n",
        "print('Shape of X_train',X_train.shape)\n",
        "print('Shape of y_train',y_train.shape)"
      ],
      "metadata": {
        "colab": {
          "base_uri": "https://localhost:8080/"
        },
        "id": "jEozQo3ZZe74",
        "outputId": "72394c38-f146-48a5-edad-3f767655f7ca"
      },
      "execution_count": 12,
      "outputs": [
        {
          "output_type": "stream",
          "name": "stdout",
          "text": [
            "Number of dataset:  480\n",
            "Number of train set:  384\n",
            "Number of validation set:  96\n",
            "Shape of X_train (384, 16)\n",
            "Shape of y_train (384,)\n"
          ]
        }
      ]
    },
    {
      "cell_type": "markdown",
      "source": [
        "# ***Implementing Model***"
      ],
      "metadata": {
        "id": "p8uXlAKL0fpU"
      }
    },
    {
      "cell_type": "code",
      "source": [
        "class Network(object):\n",
        "  def __init__(self):        \n",
        "        #Setting Up Random Generator\n",
        "        rg = np.random.default_rng()\n",
        "        #Setting Parameters\n",
        "        self.inputNeuoronCount = X_train.shape[1]\n",
        "        self.hiddenLayerNeuronCount = 32\n",
        "        self.outputNeuoronCount = 1\n",
        "        self.iterations = 1000\n",
        "        self.l_rate = 0.001\n",
        "        #Setting Up Weights\n",
        "        self.weights = rg.random((self.inputNeuoronCount, self.hiddenLayerNeuronCount))\n",
        "        self.weights2 = rg.random((self.hiddenLayerNeuronCount, self.outputNeuoronCount))\n",
        "        self.bias = rg.random((self.hiddenLayerNeuronCount,1))\n",
        "        self.bias2 = rg.random((self.outputNeuoronCount,1))\n",
        "        print(\"Weights : \",self.weights.shape)\n",
        "        print(\"Bias : \",self.bias.shape)\n",
        "        print(\"Weights Hidden Layer : \",self.weights2.shape)\n",
        "        print(\"Bias Hidden Layer : \",self.bias2.shape)\n",
        "\n",
        "  #Activation Function\n",
        "  def sigmoid(self, z):\n",
        "    return 1/(1+np.exp(-z))\n",
        "\n",
        "  def relu(self,z):\n",
        "    return np.maximum(0,z)\n",
        "\n",
        "  def dRelu(self,x):\n",
        "    x[x<=0] = 0\n",
        "    x[x>0] = 1\n",
        "    return x\n",
        "\n",
        "  def propagation(self):\n",
        "    self.cost = 0.0\n",
        "    self.accuracy = 0.0\n",
        "    self.dew = 0.0\n",
        "    self.deb = 0.0\n",
        "    self.hiddenDew = 0.0\n",
        "    self.hiddenDeb = 0.0\n",
        "    self.outputDew = 0.0\n",
        "    self.outputDeb = 0.0\n",
        "    for i in range(X_train.shape[0]):\n",
        "      #Matrix Multiplication\n",
        "      z = np.dot(self.weights.T,X_train[i].reshape(16,1))+self.bias\n",
        "      #Invoking Activation Function\n",
        "      a = self.relu(z)\n",
        "      #Matrix Multiplication For Hidden Layer\n",
        "      z2 = np.dot(self.weights2.T,a)+self.bias2\n",
        "      a2 = self.sigmoid(z2)\n",
        "      #Calculating Cost\n",
        "      self.cost += y_train[i]*np.log(a2[0]+0.000001) + (1-y_train[i])*np.log(1-a2[0]+0.000001)\n",
        "      #Calculating Acccuracy\n",
        "      self.accuracy += np.abs(a2[0][0]- y_train[i])\n",
        "      #Calculating D(e)/D(b)\n",
        "      dz2 =a2-y_train[i]\n",
        "      self.outputDew += np.dot(a, dz2.T) \n",
        "      self.outputDeb += dz2\n",
        "      da1 = np.dot(self.weights2,dz2.T) \n",
        "      dz1= da1*self.dRelu(z)\n",
        "      self.hiddenDew+=np.dot(X_train[i].reshape(16,1), dz1.T) \n",
        "      self.hiddenDeb += dz1\n",
        "    #Matching the values with the propper formulas\n",
        "    self.cost /= X_train.shape[0]*-1\n",
        "    self.accuracy = (100 - self.accuracy/X_train.shape[0] * 100)\n",
        "    self.outputDew/=X_train.shape[0]\n",
        "    self.outputDeb/=X_train.shape[0]\n",
        "    return self.cost, self.hiddenDew, self.hiddenDeb, self.outputDew, self.outputDeb, self.accuracy\n",
        "\n",
        "  #Gradient Descent\n",
        "  def gDescent(self):\n",
        "    costList = list()\n",
        "    accuracyList = list()\n",
        "    for i in range(self.iterations):\n",
        "      cost, dw1,db1,dw2,db2, accuracy = self.propagation()\n",
        "      self.weights -= self.l_rate * (dw1 + ((0.1/(2*X_train.shape[0]))*np.sum(self.weights)))\n",
        "      self.bias -= self.l_rate * db1        \n",
        "      self.weights2 -= self.l_rate * (dw2 + ((0.1/(2*X_train.shape[0]))*np.sum(self.weights)))\n",
        "      self.bias2 -= self.l_rate * db2   \n",
        "      if (i + 1) % 100 == 0:\n",
        "          print (\"Cost after iteration \"+str(i+1)+\" is \"+str(cost[0]))\n",
        "          print (\"Accuracy after iteration \"+str(i+1)+\" is \"+str(accuracy))\n",
        "          costList.append(cost[0])\n",
        "          accuracyList.append(accuracy)\n",
        "    #Drawing Cost Per Iteration Graph\n",
        "    plt.plot(costList)\n",
        "    plt.xlabel('Iteration')\n",
        "    plt.ylabel('Cost')\n",
        "    plt.show()\n",
        "    #Drawing Accuracy Per Iteration Graph\n",
        "    plt.plot(accuracyList)\n",
        "    plt.xlabel('Iteration')\n",
        "    plt.ylabel('Accuracy')\n",
        "    plt.show()\n",
        "\n",
        "      \n",
        "  def predict(self):    \n",
        "    predictions = np.zeros((X_val.shape[0],1))\n",
        "    cost = 0.0\n",
        "    accuracy = 0.0\n",
        "    for i in range(X_val.shape[0]):\n",
        "      z1 = np.dot(self.weights.T, X_val[i].reshape(16,1))+self.bias\n",
        "      a1 = a = self.relu(z1)\n",
        "      z2 = np.dot(self.weights2.T, a1)+self.bias2\n",
        "      a = self.sigmoid(z2)\n",
        "      if a < 0.5:\n",
        "        predictions[i,0] = 0\n",
        "      else :\n",
        "        predictions[i,0] = 1\n",
        "      cost += y_val[i]*np.log(a[0]+0.000001) + (1-y_val[i])*np.log(1-a[0]+0.000001)\n",
        "      accuracy +=np.abs(a[0][0] - y_val[i])\n",
        "    cost /= X_val.shape[0]*-1\n",
        "    accuracy = (100 - accuracy/X_val.shape[0] * 100)\n",
        "    return predictions, cost, accuracy\n",
        "\n",
        "network = Network()"
      ],
      "metadata": {
        "id": "DfxkIrA_0kkn",
        "colab": {
          "base_uri": "https://localhost:8080/"
        },
        "outputId": "fa489a88-0282-46d2-ab19-065a0876fcdb"
      },
      "execution_count": 97,
      "outputs": [
        {
          "output_type": "stream",
          "name": "stdout",
          "text": [
            "Weights :  (16, 32)\n",
            "Bias :  (32, 1)\n",
            "Weights Hidden Layer :  (32, 1)\n",
            "Bias Hidden Layer :  (1, 1)\n"
          ]
        }
      ]
    },
    {
      "cell_type": "code",
      "source": [
        ""
      ],
      "metadata": {
        "id": "QhLyig3I3lMu"
      },
      "execution_count": null,
      "outputs": []
    },
    {
      "cell_type": "markdown",
      "source": [
        "# ***Training the model***"
      ],
      "metadata": {
        "id": "PT4J_POH0lbD"
      }
    },
    {
      "cell_type": "code",
      "source": [
        "network.gDescent()"
      ],
      "metadata": {
        "id": "NJQUZYLP0yf4",
        "colab": {
          "base_uri": "https://localhost:8080/",
          "height": 898
        },
        "outputId": "9ec8aad5-7711-4a47-ee25-e75ebddd8757"
      },
      "execution_count": 100,
      "outputs": [
        {
          "output_type": "stream",
          "name": "stdout",
          "text": [
            "Cost after iteration 100 is 0.35505444563430794\n",
            "Accuracy after iteration 100 is 76.49873153056815\n",
            "Cost after iteration 200 is 0.353240361931574\n",
            "Accuracy after iteration 200 is 76.57207387796032\n",
            "Cost after iteration 300 is 0.35131308202367845\n",
            "Accuracy after iteration 300 is 76.68751563801209\n",
            "Cost after iteration 400 is 0.3492928871887701\n",
            "Accuracy after iteration 400 is 76.77095641634423\n",
            "Cost after iteration 500 is 0.34708746931382956\n",
            "Accuracy after iteration 500 is 76.89545895352471\n",
            "Cost after iteration 600 is 0.3446542238794434\n",
            "Accuracy after iteration 600 is 76.96297321845472\n",
            "Cost after iteration 700 is 0.34185004430521526\n",
            "Accuracy after iteration 700 is 77.08299030756761\n",
            "Cost after iteration 800 is 0.338569375939973\n",
            "Accuracy after iteration 800 is 77.34078521711551\n",
            "Cost after iteration 900 is 0.33551366609787237\n",
            "Accuracy after iteration 900 is 77.77485526339638\n",
            "Cost after iteration 1000 is 0.33322168581796524\n",
            "Accuracy after iteration 1000 is 78.22938412467086\n"
          ]
        },
        {
          "output_type": "display_data",
          "data": {
            "text/plain": [
              "<Figure size 432x288 with 1 Axes>"
            ],
            "image/png": "[encoded data removed]"
          },
          "metadata": {
            "needs_background": "light"
          }
        },
        {
          "output_type": "display_data",
          "data": {
            "text/plain": [
              "<Figure size 432x288 with 1 Axes>"
            ],
            "image/png": "[encoded data removed]"
          },
          "metadata": {
            "needs_background": "light"
          }
        }
      ]
    },
    {
      "cell_type": "markdown",
      "source": [
        "# ***Evaluating the model***"
      ],
      "metadata": {
        "id": "YPVKG5AS0zeY"
      }
    },
    {
      "cell_type": "code",
      "source": [
        "predictions, cost, accuracy = network.predict()\n",
        "print(\"Final Cost : \"+str(cost[0]))\n",
        "print(\"Final Accuracy : \"+str(accuracy) +\"%\")"
      ],
      "metadata": {
        "id": "RfqYttaa06on",
        "colab": {
          "base_uri": "https://localhost:8080/"
        },
        "outputId": "7fa61d2e-d2ff-4c52-f31e-3eb9d22fa695"
      },
      "execution_count": 101,
      "outputs": [
        {
          "output_type": "stream",
          "name": "stdout",
          "text": [
            "Final Cost : 0.33991536571718844\n",
            "Final Accuracy : 78.57668834786088%\n"
          ]
        }
      ]
    }
  ]
}