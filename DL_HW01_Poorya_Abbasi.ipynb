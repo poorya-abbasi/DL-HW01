{
  "nbformat": 4,
  "nbformat_minor": 0,
  "metadata": {
    "colab": {
      "name": "DL-HW01-Poorya Abbasi",
      "provenance": [],
      "collapsed_sections": [],
      "include_colab_link": true
    },
    "kernelspec": {
      "name": "python3",
      "display_name": "Python 3"
    },
    "language_info": {
      "name": "python"
    }
  },
  "cells": [
    {
      "cell_type": "markdown",
      "metadata": {
        "id": "view-in-github",
        "colab_type": "text"
      },
      "source": [
        "<a href=\"https://colab.research.google.com/github/poorya-abbasi/DL-HW01/blob/main/DL_HW01_Poorya_Abbasi.ipynb\" target=\"_parent\"><img src=\"https://colab.research.google.com/assets/colab-badge.svg\" alt=\"Open In Colab\"/></a>"
      ]
    },
    {
      "cell_type": "markdown",
      "source": [
        "# ***Libraries & Constants***"
      ],
      "metadata": {
        "id": "TopdEIaCyasv"
      }
    },
    {
      "cell_type": "code",
      "execution_count": 311,
      "metadata": {
        "id": "8wXLgz_EYiFr"
      },
      "outputs": [],
      "source": [
        "import os\n",
        "import pandas as pd\n",
        "import seaborn as sns\n",
        "import numpy as np\n",
        "import matplotlib.pyplot as plt\n",
        "from sklearn.preprocessing import LabelEncoder\n",
        "from sklearn.model_selection import train_test_split"
      ]
    },
    {
      "cell_type": "code",
      "source": [
        "!gdown --id 1-Zyp-JP3f9QhPKaErBkPPFNKaPS1v74u"
      ],
      "metadata": {
        "colab": {
          "base_uri": "https://localhost:8080/"
        },
        "id": "lirSlJSTYqd6",
        "outputId": "e29f1846-5f65-4537-c715-f56bfceb1089"
      },
      "execution_count": null,
      "outputs": [
        {
          "output_type": "stream",
          "name": "stdout",
          "text": [
            "Downloading...\n",
            "From: https://drive.google.com/uc?id=1-Zyp-JP3f9QhPKaErBkPPFNKaPS1v74u\n",
            "To: /content/Dataset.csv\n",
            "\r  0% 0.00/38.0k [00:00<?, ?B/s]\r100% 38.0k/38.0k [00:00<00:00, 37.5MB/s]\n"
          ]
        }
      ]
    },
    {
      "cell_type": "code",
      "source": [
        "categorical_attr = ['gender', 'NationalITy', 'PlaceofBirth', 'StageID', 'GradeID', 'SectionID', 'Topic', 'Semester', 'Relation', 'ParentAnsweringSurvey', 'ParentschoolSatisfaction', 'StudentAbsenceDays', 'Class']"
      ],
      "metadata": {
        "id": "WrvvhoNxYtkt"
      },
      "execution_count": null,
      "outputs": []
    },
    {
      "cell_type": "markdown",
      "source": [
        "# ***Preprocessing***\n",
        "\n",
        "Reading & displaying data:"
      ],
      "metadata": {
        "id": "iZ0yQWRPY2vx"
      }
    },
    {
      "cell_type": "code",
      "source": [
        "df = pd.read_csv('/content/Dataset.csv')\n",
        "df.head()"
      ],
      "metadata": {
        "colab": {
          "base_uri": "https://localhost:8080/",
          "height": 270
        },
        "id": "BVPm_CFfYxjw",
        "outputId": "fe31d9d8-446b-4900-f257-cea00a9afe92"
      },
      "execution_count": null,
      "outputs": [
        {
          "output_type": "execute_result",
          "data": {
            "text/plain": [
              "  gender NationalITy PlaceofBirth     StageID GradeID SectionID Topic  \\\n",
              "0      M          KW       KuwaIT  lowerlevel    G-04         A    IT   \n",
              "1      M          KW       KuwaIT  lowerlevel    G-04         A    IT   \n",
              "2      M          KW       KuwaIT  lowerlevel    G-04         A    IT   \n",
              "3      M          KW       KuwaIT  lowerlevel    G-04         A    IT   \n",
              "4      M          KW       KuwaIT  lowerlevel    G-04         A    IT   \n",
              "\n",
              "  Semester Relation  raisedhands  VisITedResources  AnnouncementsView  \\\n",
              "0        F   Father           15                16                  2   \n",
              "1        F   Father           20                20                  3   \n",
              "2        F   Father           10                 7                  0   \n",
              "3        F   Father           30                25                  5   \n",
              "4        F   Father           40                50                 12   \n",
              "\n",
              "   Discussion ParentAnsweringSurvey ParentschoolSatisfaction  \\\n",
              "0          20                   Yes                     Good   \n",
              "1          25                   Yes                     Good   \n",
              "2          30                    No                      Bad   \n",
              "3          35                    No                      Bad   \n",
              "4          50                    No                      Bad   \n",
              "\n",
              "  StudentAbsenceDays Class  \n",
              "0            Under-7     M  \n",
              "1            Under-7     M  \n",
              "2            Above-7     L  \n",
              "3            Above-7     L  \n",
              "4            Above-7     M  "
            ],
            "text/html": [
              "\n",
              "  <div id=\"df-d0c5f16a-1e18-4a07-9168-56cb561dce54\">\n",
              "    <div class=\"colab-df-container\">\n",
              "      <div>\n",
              "<style scoped>\n",
              "    .dataframe tbody tr th:only-of-type {\n",
              "        vertical-align: middle;\n",
              "    }\n",
              "\n",
              "    .dataframe tbody tr th {\n",
              "        vertical-align: top;\n",
              "    }\n",
              "\n",
              "    .dataframe thead th {\n",
              "        text-align: right;\n",
              "    }\n",
              "</style>\n",
              "<table border=\"1\" class=\"dataframe\">\n",
              "  <thead>\n",
              "    <tr style=\"text-align: right;\">\n",
              "      <th></th>\n",
              "      <th>gender</th>\n",
              "      <th>NationalITy</th>\n",
              "      <th>PlaceofBirth</th>\n",
              "      <th>StageID</th>\n",
              "      <th>GradeID</th>\n",
              "      <th>SectionID</th>\n",
              "      <th>Topic</th>\n",
              "      <th>Semester</th>\n",
              "      <th>Relation</th>\n",
              "      <th>raisedhands</th>\n",
              "      <th>VisITedResources</th>\n",
              "      <th>AnnouncementsView</th>\n",
              "      <th>Discussion</th>\n",
              "      <th>ParentAnsweringSurvey</th>\n",
              "      <th>ParentschoolSatisfaction</th>\n",
              "      <th>StudentAbsenceDays</th>\n",
              "      <th>Class</th>\n",
              "    </tr>\n",
              "  </thead>\n",
              "  <tbody>\n",
              "    <tr>\n",
              "      <th>0</th>\n",
              "      <td>M</td>\n",
              "      <td>KW</td>\n",
              "      <td>KuwaIT</td>\n",
              "      <td>lowerlevel</td>\n",
              "      <td>G-04</td>\n",
              "      <td>A</td>\n",
              "      <td>IT</td>\n",
              "      <td>F</td>\n",
              "      <td>Father</td>\n",
              "      <td>15</td>\n",
              "      <td>16</td>\n",
              "      <td>2</td>\n",
              "      <td>20</td>\n",
              "      <td>Yes</td>\n",
              "      <td>Good</td>\n",
              "      <td>Under-7</td>\n",
              "      <td>M</td>\n",
              "    </tr>\n",
              "    <tr>\n",
              "      <th>1</th>\n",
              "      <td>M</td>\n",
              "      <td>KW</td>\n",
              "      <td>KuwaIT</td>\n",
              "      <td>lowerlevel</td>\n",
              "      <td>G-04</td>\n",
              "      <td>A</td>\n",
              "      <td>IT</td>\n",
              "      <td>F</td>\n",
              "      <td>Father</td>\n",
              "      <td>20</td>\n",
              "      <td>20</td>\n",
              "      <td>3</td>\n",
              "      <td>25</td>\n",
              "      <td>Yes</td>\n",
              "      <td>Good</td>\n",
              "      <td>Under-7</td>\n",
              "      <td>M</td>\n",
              "    </tr>\n",
              "    <tr>\n",
              "      <th>2</th>\n",
              "      <td>M</td>\n",
              "      <td>KW</td>\n",
              "      <td>KuwaIT</td>\n",
              "      <td>lowerlevel</td>\n",
              "      <td>G-04</td>\n",
              "      <td>A</td>\n",
              "      <td>IT</td>\n",
              "      <td>F</td>\n",
              "      <td>Father</td>\n",
              "      <td>10</td>\n",
              "      <td>7</td>\n",
              "      <td>0</td>\n",
              "      <td>30</td>\n",
              "      <td>No</td>\n",
              "      <td>Bad</td>\n",
              "      <td>Above-7</td>\n",
              "      <td>L</td>\n",
              "    </tr>\n",
              "    <tr>\n",
              "      <th>3</th>\n",
              "      <td>M</td>\n",
              "      <td>KW</td>\n",
              "      <td>KuwaIT</td>\n",
              "      <td>lowerlevel</td>\n",
              "      <td>G-04</td>\n",
              "      <td>A</td>\n",
              "      <td>IT</td>\n",
              "      <td>F</td>\n",
              "      <td>Father</td>\n",
              "      <td>30</td>\n",
              "      <td>25</td>\n",
              "      <td>5</td>\n",
              "      <td>35</td>\n",
              "      <td>No</td>\n",
              "      <td>Bad</td>\n",
              "      <td>Above-7</td>\n",
              "      <td>L</td>\n",
              "    </tr>\n",
              "    <tr>\n",
              "      <th>4</th>\n",
              "      <td>M</td>\n",
              "      <td>KW</td>\n",
              "      <td>KuwaIT</td>\n",
              "      <td>lowerlevel</td>\n",
              "      <td>G-04</td>\n",
              "      <td>A</td>\n",
              "      <td>IT</td>\n",
              "      <td>F</td>\n",
              "      <td>Father</td>\n",
              "      <td>40</td>\n",
              "      <td>50</td>\n",
              "      <td>12</td>\n",
              "      <td>50</td>\n",
              "      <td>No</td>\n",
              "      <td>Bad</td>\n",
              "      <td>Above-7</td>\n",
              "      <td>M</td>\n",
              "    </tr>\n",
              "  </tbody>\n",
              "</table>\n",
              "</div>\n",
              "      <button class=\"colab-df-convert\" onclick=\"convertToInteractive('df-d0c5f16a-1e18-4a07-9168-56cb561dce54')\"\n",
              "              title=\"Convert this dataframe to an interactive table.\"\n",
              "              style=\"display:none;\">\n",
              "        \n",
              "  <svg xmlns=\"http://www.w3.org/2000/svg\" height=\"24px\"viewBox=\"0 0 24 24\"\n",
              "       width=\"24px\">\n",
              "    <path d=\"M0 0h24v24H0V0z\" fill=\"none\"/>\n",
              "    <path d=\"M18.56 5.44l.94 2.06.94-2.06 2.06-.94-2.06-.94-.94-2.06-.94 2.06-2.06.94zm-11 1L8.5 8.5l.94-2.06 2.06-.94-2.06-.94L8.5 2.5l-.94 2.06-2.06.94zm10 10l.94 2.06.94-2.06 2.06-.94-2.06-.94-.94-2.06-.94 2.06-2.06.94z\"/><path d=\"M17.41 7.96l-1.37-1.37c-.4-.4-.92-.59-1.43-.59-.52 0-1.04.2-1.43.59L10.3 9.45l-7.72 7.72c-.78.78-.78 2.05 0 2.83L4 21.41c.39.39.9.59 1.41.59.51 0 1.02-.2 1.41-.59l7.78-7.78 2.81-2.81c.8-.78.8-2.07 0-2.86zM5.41 20L4 18.59l7.72-7.72 1.47 1.35L5.41 20z\"/>\n",
              "  </svg>\n",
              "      </button>\n",
              "      \n",
              "  <style>\n",
              "    .colab-df-container {\n",
              "      display:flex;\n",
              "      flex-wrap:wrap;\n",
              "      gap: 12px;\n",
              "    }\n",
              "\n",
              "    .colab-df-convert {\n",
              "      background-color: #E8F0FE;\n",
              "      border: none;\n",
              "      border-radius: 50%;\n",
              "      cursor: pointer;\n",
              "      display: none;\n",
              "      fill: #1967D2;\n",
              "      height: 32px;\n",
              "      padding: 0 0 0 0;\n",
              "      width: 32px;\n",
              "    }\n",
              "\n",
              "    .colab-df-convert:hover {\n",
              "      background-color: #E2EBFA;\n",
              "      box-shadow: 0px 1px 2px rgba(60, 64, 67, 0.3), 0px 1px 3px 1px rgba(60, 64, 67, 0.15);\n",
              "      fill: #174EA6;\n",
              "    }\n",
              "\n",
              "    [theme=dark] .colab-df-convert {\n",
              "      background-color: #3B4455;\n",
              "      fill: #D2E3FC;\n",
              "    }\n",
              "\n",
              "    [theme=dark] .colab-df-convert:hover {\n",
              "      background-color: #434B5C;\n",
              "      box-shadow: 0px 1px 3px 1px rgba(0, 0, 0, 0.15);\n",
              "      filter: drop-shadow(0px 1px 2px rgba(0, 0, 0, 0.3));\n",
              "      fill: #FFFFFF;\n",
              "    }\n",
              "  </style>\n",
              "\n",
              "      <script>\n",
              "        const buttonEl =\n",
              "          document.querySelector('#df-d0c5f16a-1e18-4a07-9168-56cb561dce54 button.colab-df-convert');\n",
              "        buttonEl.style.display =\n",
              "          google.colab.kernel.accessAllowed ? 'block' : 'none';\n",
              "\n",
              "        async function convertToInteractive(key) {\n",
              "          const element = document.querySelector('#df-d0c5f16a-1e18-4a07-9168-56cb561dce54');\n",
              "          const dataTable =\n",
              "            await google.colab.kernel.invokeFunction('convertToInteractive',\n",
              "                                                     [key], {});\n",
              "          if (!dataTable) return;\n",
              "\n",
              "          const docLinkHtml = 'Like what you see? Visit the ' +\n",
              "            '<a target=\"_blank\" href=https://colab.research.google.com/notebooks/data_table.ipynb>data table notebook</a>'\n",
              "            + ' to learn more about interactive tables.';\n",
              "          element.innerHTML = '';\n",
              "          dataTable['output_type'] = 'display_data';\n",
              "          await google.colab.output.renderOutput(dataTable, element);\n",
              "          const docLink = document.createElement('div');\n",
              "          docLink.innerHTML = docLinkHtml;\n",
              "          element.appendChild(docLink);\n",
              "        }\n",
              "      </script>\n",
              "    </div>\n",
              "  </div>\n",
              "  "
            ]
          },
          "metadata": {},
          "execution_count": 6
        }
      ]
    },
    {
      "cell_type": "code",
      "source": [
        "print(df.shape)"
      ],
      "metadata": {
        "colab": {
          "base_uri": "https://localhost:8080/"
        },
        "id": "oDkmtX73p6S1",
        "outputId": "d25e048b-c937-417e-a640-87e28e93f6a3"
      },
      "execution_count": null,
      "outputs": [
        {
          "output_type": "stream",
          "name": "stdout",
          "text": [
            "(480, 17)\n"
          ]
        }
      ]
    },
    {
      "cell_type": "code",
      "source": [
        "# Converting Categorical values to scaler values\n",
        "le = LabelEncoder()\n",
        "# Replacing H with M to make the choice scaler between 0 and 1\n",
        "df['Class'] = df['Class'].replace('H','M')\n",
        "df[categorical_attr] = df[categorical_attr].apply(le.fit_transform, axis=0)"
      ],
      "metadata": {
        "id": "8o2lOEhwZEx_"
      },
      "execution_count": null,
      "outputs": []
    },
    {
      "cell_type": "code",
      "source": [
        "df.head()"
      ],
      "metadata": {
        "colab": {
          "base_uri": "https://localhost:8080/",
          "height": 270
        },
        "id": "gKyEl77qy56y",
        "outputId": "ba686c70-abda-4e6f-f506-7551eb3b2b41"
      },
      "execution_count": null,
      "outputs": [
        {
          "output_type": "execute_result",
          "data": {
            "text/plain": [
              "   gender  NationalITy  PlaceofBirth  StageID  GradeID  SectionID  Topic  \\\n",
              "0       1            4             4        2        1          0      7   \n",
              "1       1            4             4        2        1          0      7   \n",
              "2       1            4             4        2        1          0      7   \n",
              "3       1            4             4        2        1          0      7   \n",
              "4       1            4             4        2        1          0      7   \n",
              "\n",
              "   Semester  Relation  raisedhands  VisITedResources  AnnouncementsView  \\\n",
              "0         0         0           15                16                  2   \n",
              "1         0         0           20                20                  3   \n",
              "2         0         0           10                 7                  0   \n",
              "3         0         0           30                25                  5   \n",
              "4         0         0           40                50                 12   \n",
              "\n",
              "   Discussion  ParentAnsweringSurvey  ParentschoolSatisfaction  \\\n",
              "0          20                      1                         1   \n",
              "1          25                      1                         1   \n",
              "2          30                      0                         0   \n",
              "3          35                      0                         0   \n",
              "4          50                      0                         0   \n",
              "\n",
              "   StudentAbsenceDays  Class  \n",
              "0                   1      0  \n",
              "1                   1      0  \n",
              "2                   0      1  \n",
              "3                   0      1  \n",
              "4                   0      0  "
            ],
            "text/html": [
              "\n",
              "  <div id=\"df-365223e9-44f7-4077-8db6-1a115ab91db5\">\n",
              "    <div class=\"colab-df-container\">\n",
              "      <div>\n",
              "<style scoped>\n",
              "    .dataframe tbody tr th:only-of-type {\n",
              "        vertical-align: middle;\n",
              "    }\n",
              "\n",
              "    .dataframe tbody tr th {\n",
              "        vertical-align: top;\n",
              "    }\n",
              "\n",
              "    .dataframe thead th {\n",
              "        text-align: right;\n",
              "    }\n",
              "</style>\n",
              "<table border=\"1\" class=\"dataframe\">\n",
              "  <thead>\n",
              "    <tr style=\"text-align: right;\">\n",
              "      <th></th>\n",
              "      <th>gender</th>\n",
              "      <th>NationalITy</th>\n",
              "      <th>PlaceofBirth</th>\n",
              "      <th>StageID</th>\n",
              "      <th>GradeID</th>\n",
              "      <th>SectionID</th>\n",
              "      <th>Topic</th>\n",
              "      <th>Semester</th>\n",
              "      <th>Relation</th>\n",
              "      <th>raisedhands</th>\n",
              "      <th>VisITedResources</th>\n",
              "      <th>AnnouncementsView</th>\n",
              "      <th>Discussion</th>\n",
              "      <th>ParentAnsweringSurvey</th>\n",
              "      <th>ParentschoolSatisfaction</th>\n",
              "      <th>StudentAbsenceDays</th>\n",
              "      <th>Class</th>\n",
              "    </tr>\n",
              "  </thead>\n",
              "  <tbody>\n",
              "    <tr>\n",
              "      <th>0</th>\n",
              "      <td>1</td>\n",
              "      <td>4</td>\n",
              "      <td>4</td>\n",
              "      <td>2</td>\n",
              "      <td>1</td>\n",
              "      <td>0</td>\n",
              "      <td>7</td>\n",
              "      <td>0</td>\n",
              "      <td>0</td>\n",
              "      <td>15</td>\n",
              "      <td>16</td>\n",
              "      <td>2</td>\n",
              "      <td>20</td>\n",
              "      <td>1</td>\n",
              "      <td>1</td>\n",
              "      <td>1</td>\n",
              "      <td>0</td>\n",
              "    </tr>\n",
              "    <tr>\n",
              "      <th>1</th>\n",
              "      <td>1</td>\n",
              "      <td>4</td>\n",
              "      <td>4</td>\n",
              "      <td>2</td>\n",
              "      <td>1</td>\n",
              "      <td>0</td>\n",
              "      <td>7</td>\n",
              "      <td>0</td>\n",
              "      <td>0</td>\n",
              "      <td>20</td>\n",
              "      <td>20</td>\n",
              "      <td>3</td>\n",
              "      <td>25</td>\n",
              "      <td>1</td>\n",
              "      <td>1</td>\n",
              "      <td>1</td>\n",
              "      <td>0</td>\n",
              "    </tr>\n",
              "    <tr>\n",
              "      <th>2</th>\n",
              "      <td>1</td>\n",
              "      <td>4</td>\n",
              "      <td>4</td>\n",
              "      <td>2</td>\n",
              "      <td>1</td>\n",
              "      <td>0</td>\n",
              "      <td>7</td>\n",
              "      <td>0</td>\n",
              "      <td>0</td>\n",
              "      <td>10</td>\n",
              "      <td>7</td>\n",
              "      <td>0</td>\n",
              "      <td>30</td>\n",
              "      <td>0</td>\n",
              "      <td>0</td>\n",
              "      <td>0</td>\n",
              "      <td>1</td>\n",
              "    </tr>\n",
              "    <tr>\n",
              "      <th>3</th>\n",
              "      <td>1</td>\n",
              "      <td>4</td>\n",
              "      <td>4</td>\n",
              "      <td>2</td>\n",
              "      <td>1</td>\n",
              "      <td>0</td>\n",
              "      <td>7</td>\n",
              "      <td>0</td>\n",
              "      <td>0</td>\n",
              "      <td>30</td>\n",
              "      <td>25</td>\n",
              "      <td>5</td>\n",
              "      <td>35</td>\n",
              "      <td>0</td>\n",
              "      <td>0</td>\n",
              "      <td>0</td>\n",
              "      <td>1</td>\n",
              "    </tr>\n",
              "    <tr>\n",
              "      <th>4</th>\n",
              "      <td>1</td>\n",
              "      <td>4</td>\n",
              "      <td>4</td>\n",
              "      <td>2</td>\n",
              "      <td>1</td>\n",
              "      <td>0</td>\n",
              "      <td>7</td>\n",
              "      <td>0</td>\n",
              "      <td>0</td>\n",
              "      <td>40</td>\n",
              "      <td>50</td>\n",
              "      <td>12</td>\n",
              "      <td>50</td>\n",
              "      <td>0</td>\n",
              "      <td>0</td>\n",
              "      <td>0</td>\n",
              "      <td>0</td>\n",
              "    </tr>\n",
              "  </tbody>\n",
              "</table>\n",
              "</div>\n",
              "      <button class=\"colab-df-convert\" onclick=\"convertToInteractive('df-365223e9-44f7-4077-8db6-1a115ab91db5')\"\n",
              "              title=\"Convert this dataframe to an interactive table.\"\n",
              "              style=\"display:none;\">\n",
              "        \n",
              "  <svg xmlns=\"http://www.w3.org/2000/svg\" height=\"24px\"viewBox=\"0 0 24 24\"\n",
              "       width=\"24px\">\n",
              "    <path d=\"M0 0h24v24H0V0z\" fill=\"none\"/>\n",
              "    <path d=\"M18.56 5.44l.94 2.06.94-2.06 2.06-.94-2.06-.94-.94-2.06-.94 2.06-2.06.94zm-11 1L8.5 8.5l.94-2.06 2.06-.94-2.06-.94L8.5 2.5l-.94 2.06-2.06.94zm10 10l.94 2.06.94-2.06 2.06-.94-2.06-.94-.94-2.06-.94 2.06-2.06.94z\"/><path d=\"M17.41 7.96l-1.37-1.37c-.4-.4-.92-.59-1.43-.59-.52 0-1.04.2-1.43.59L10.3 9.45l-7.72 7.72c-.78.78-.78 2.05 0 2.83L4 21.41c.39.39.9.59 1.41.59.51 0 1.02-.2 1.41-.59l7.78-7.78 2.81-2.81c.8-.78.8-2.07 0-2.86zM5.41 20L4 18.59l7.72-7.72 1.47 1.35L5.41 20z\"/>\n",
              "  </svg>\n",
              "      </button>\n",
              "      \n",
              "  <style>\n",
              "    .colab-df-container {\n",
              "      display:flex;\n",
              "      flex-wrap:wrap;\n",
              "      gap: 12px;\n",
              "    }\n",
              "\n",
              "    .colab-df-convert {\n",
              "      background-color: #E8F0FE;\n",
              "      border: none;\n",
              "      border-radius: 50%;\n",
              "      cursor: pointer;\n",
              "      display: none;\n",
              "      fill: #1967D2;\n",
              "      height: 32px;\n",
              "      padding: 0 0 0 0;\n",
              "      width: 32px;\n",
              "    }\n",
              "\n",
              "    .colab-df-convert:hover {\n",
              "      background-color: #E2EBFA;\n",
              "      box-shadow: 0px 1px 2px rgba(60, 64, 67, 0.3), 0px 1px 3px 1px rgba(60, 64, 67, 0.15);\n",
              "      fill: #174EA6;\n",
              "    }\n",
              "\n",
              "    [theme=dark] .colab-df-convert {\n",
              "      background-color: #3B4455;\n",
              "      fill: #D2E3FC;\n",
              "    }\n",
              "\n",
              "    [theme=dark] .colab-df-convert:hover {\n",
              "      background-color: #434B5C;\n",
              "      box-shadow: 0px 1px 3px 1px rgba(0, 0, 0, 0.15);\n",
              "      filter: drop-shadow(0px 1px 2px rgba(0, 0, 0, 0.3));\n",
              "      fill: #FFFFFF;\n",
              "    }\n",
              "  </style>\n",
              "\n",
              "      <script>\n",
              "        const buttonEl =\n",
              "          document.querySelector('#df-365223e9-44f7-4077-8db6-1a115ab91db5 button.colab-df-convert');\n",
              "        buttonEl.style.display =\n",
              "          google.colab.kernel.accessAllowed ? 'block' : 'none';\n",
              "\n",
              "        async function convertToInteractive(key) {\n",
              "          const element = document.querySelector('#df-365223e9-44f7-4077-8db6-1a115ab91db5');\n",
              "          const dataTable =\n",
              "            await google.colab.kernel.invokeFunction('convertToInteractive',\n",
              "                                                     [key], {});\n",
              "          if (!dataTable) return;\n",
              "\n",
              "          const docLinkHtml = 'Like what you see? Visit the ' +\n",
              "            '<a target=\"_blank\" href=https://colab.research.google.com/notebooks/data_table.ipynb>data table notebook</a>'\n",
              "            + ' to learn more about interactive tables.';\n",
              "          element.innerHTML = '';\n",
              "          dataTable['output_type'] = 'display_data';\n",
              "          await google.colab.output.renderOutput(dataTable, element);\n",
              "          const docLink = document.createElement('div');\n",
              "          docLink.innerHTML = docLinkHtml;\n",
              "          element.appendChild(docLink);\n",
              "        }\n",
              "      </script>\n",
              "    </div>\n",
              "  </div>\n",
              "  "
            ]
          },
          "metadata": {},
          "execution_count": 10
        }
      ]
    },
    {
      "cell_type": "code",
      "source": [
        "# X: Features, y: Classes\n",
        "X = np.array(df.iloc[:, :-1])\n",
        "y = np.array(df['Class'])\n"
      ],
      "metadata": {
        "id": "taUy4jmjZJRN"
      },
      "execution_count": null,
      "outputs": []
    },
    {
      "cell_type": "code",
      "source": [
        "# Deviding Dataset to training and validation set\n",
        "X_train, X_val, y_train, y_val = train_test_split(X, y, test_size=0.2, random_state=12)"
      ],
      "metadata": {
        "id": "nBMIXI-aZKGw"
      },
      "execution_count": null,
      "outputs": []
    },
    {
      "cell_type": "code",
      "source": [
        "print('Number of dataset: ', len(X))\n",
        "print('Number of train set: ', len(X_train))\n",
        "print('Number of validation set: ', len(X_val))\n",
        "print('Shape of X_train',X_train.shape)\n",
        "print('Shape of y_train',y_train.shape)"
      ],
      "metadata": {
        "colab": {
          "base_uri": "https://localhost:8080/"
        },
        "id": "jEozQo3ZZe74",
        "outputId": "dca62c5d-e3a3-4a27-8790-b582704f9ac2"
      },
      "execution_count": null,
      "outputs": [
        {
          "output_type": "stream",
          "name": "stdout",
          "text": [
            "Number of dataset:  480\n",
            "Number of train set:  384\n",
            "Number of validation set:  96\n",
            "Shape of X_train (384, 16)\n",
            "Shape of y_train (384,)\n"
          ]
        }
      ]
    },
    {
      "cell_type": "markdown",
      "source": [
        "# ***Implementing Model***"
      ],
      "metadata": {
        "id": "p8uXlAKL0fpU"
      }
    },
    {
      "cell_type": "code",
      "source": [
        "class Network(object):\n",
        "  def __init__(self):        \n",
        "        #Setting Up Random Generator\n",
        "        rg = np.random.default_rng()\n",
        "        #Setting Parameters\n",
        "        self.inputNeuoronCount = X_train.shape[1]\n",
        "        self.outputNeuoronCount = 1\n",
        "        self.iterations = 1000\n",
        "        self.l_rate = 0.001\n",
        "        #Setting Up Weights\n",
        "        self.weights = rg.random((self.inputNeuoronCount, self.outputNeuoronCount))\n",
        "        self.bias = rg.random((self.outputNeuoronCount,1))\n",
        "        print(\"Weights : \",self.weights.shape)\n",
        "        print(\"Bias : \",self.bias.shape)\n",
        "\n",
        "  #Activation Function\n",
        "  def sigmoid(self, z):\n",
        "    return 1/(1+np.exp(-z))\n",
        "\n",
        "  def forwardPropagation(self):\n",
        "    self.cost = 0.0\n",
        "    self.accuracy = 0.0\n",
        "    self.dew = 0.0\n",
        "    self.deb = 0.0\n",
        "    for i in range(X_train.shape[0]):\n",
        "      #Matrix Multiplication\n",
        "      z = np.dot(self.weights.T,X_train[i])+self.bias\n",
        "      #Invoking Activation Function\n",
        "      a = self.sigmoid(z)\n",
        "      #Calculating Cost\n",
        "      self.cost += y_train[i]*np.log(a[0]+0.000001) + (1-y_train[i])*np.log(1-a[0]+0.000001)\n",
        "      #Calculating Acccuracy\n",
        "      self.accuracy = np.abs(a[0][0]- y_train[i])\n",
        "      #Calculating D(e)/D(b)\n",
        "      self.deb += a - y_train[i]\n",
        "      #Calculating D(e)/D(w)\n",
        "      self.dew += np.dot(X_train[i].reshape(X_train.shape[1],1),(a-y_train[i]).T)\n",
        "    #Matching the values with the propper formulas\n",
        "    self.cost /= X_train.shape[0]*-1\n",
        "    self.accuracy = (100 - self.accuracy/X_train.shape[0] * 100)\n",
        "    self.dew /= X_train.shape[0]\n",
        "    self.deb /= X_train.shape[0]\n",
        "    return self.cost, self.dew, self.deb, self.accuracy\n",
        "\n",
        "  #Gradient Descent\n",
        "  def gDescent(self):\n",
        "    costList = list()\n",
        "    accuracyList = list()\n",
        "    for i in range(self.iterations):\n",
        "      self.forwardPropagation()\n",
        "      cost, dew, deb, accuracy = self.forwardPropagation()\n",
        "      self.weights -= self.l_rate * (dew + ((0.1/(2*X_train.shape[0]))*np.sum(self.weights)))\n",
        "      self.bias -= self.l_rate * deb        \n",
        "      if (i + 1) % 100 == 0:\n",
        "          print (\"Cost after iteration \"+str(i+1)+\" is \"+str(cost[0]))\n",
        "          print (\"Accuracy after iteration \"+str(i+1)+\" is \"+str(accuracy))\n",
        "          costList.append(cost[0])\n",
        "          accuracyList.append(accuracy)\n",
        "    #Drawing Cost Per Iteration Graph\n",
        "    plt.plot(costList)\n",
        "    plt.xlabel('Iteration')\n",
        "    plt.ylabel('Cost')\n",
        "    plt.show()\n",
        "    #Drawing Accuracy Per Iteration Graph\n",
        "    plt.plot(accuracyList)\n",
        "    plt.xlabel('Iteration')\n",
        "    plt.ylabel('Accuracy')\n",
        "    plt.show()\n",
        "\n",
        "      \n",
        "  def predict(self):    \n",
        "    predictions = np.zeros((X_val.shape[0],1))\n",
        "    cost = 0.0\n",
        "    accuracy = 0.0\n",
        "    for i in range(X_val.shape[0]):\n",
        "      z = np.dot(self.weights.T, X_val[i])+self.bias\n",
        "      a = self.sigmoid(z)\n",
        "      if a < 0.5:\n",
        "        predictions[i,0] = 0\n",
        "      else :\n",
        "        predictions[i,0] = 1\n",
        "      cost += y_val[i]*np.log(a[0]+0.000001) + (1-y_val[i])*np.log(1-a[0]+0.000001)\n",
        "      accuracy +=np.abs(a[0][0] - y_val[i])\n",
        "    cost /= X_val.shape[0]*-1\n",
        "    accuracy = (100 - accuracy/X_val.shape[0] * 100)\n",
        "    return predictions, cost, accuracy\n"
      ],
      "metadata": {
        "id": "DfxkIrA_0kkn"
      },
      "execution_count": 324,
      "outputs": []
    },
    {
      "cell_type": "markdown",
      "source": [
        "# ***Training the model***"
      ],
      "metadata": {
        "id": "PT4J_POH0lbD"
      }
    },
    {
      "cell_type": "code",
      "source": [
        "network = Network()\n",
        "network.gDescent()"
      ],
      "metadata": {
        "id": "NJQUZYLP0yf4",
        "colab": {
          "base_uri": "https://localhost:8080/",
          "height": 934
        },
        "outputId": "c4d52d08-16e3-47ca-a0f5-e7102bb2b89e"
      },
      "execution_count": 326,
      "outputs": [
        {
          "output_type": "stream",
          "name": "stdout",
          "text": [
            "Weights :  (16, 1)\n",
            "Bias :  (1, 1)\n",
            "Cost after iteration 100 is 0.4569828214234557\n",
            "Accuracy after iteration 100 is 99.76417995985388\n",
            "Cost after iteration 200 is 0.43121222133009707\n",
            "Accuracy after iteration 200 is 99.77056224093519\n",
            "Cost after iteration 300 is 0.4170198787295932\n",
            "Accuracy after iteration 300 is 99.77176134564179\n",
            "Cost after iteration 400 is 0.4050358823581161\n",
            "Accuracy after iteration 400 is 99.77332621036274\n",
            "Cost after iteration 500 is 0.39426191580062747\n",
            "Accuracy after iteration 500 is 99.77559640483888\n",
            "Cost after iteration 600 is 0.3845317396894912\n",
            "Accuracy after iteration 600 is 99.77829708428324\n",
            "Cost after iteration 700 is 0.3757679598040649\n",
            "Accuracy after iteration 700 is 99.78123581290039\n",
            "Cost after iteration 800 is 0.3678983721007388\n",
            "Accuracy after iteration 800 is 99.7843134883868\n",
            "Cost after iteration 900 is 0.36084792342248256\n",
            "Accuracy after iteration 900 is 99.78747634765877\n",
            "Cost after iteration 1000 is 0.3545398853868489\n",
            "Accuracy after iteration 1000 is 99.79068865369409\n"
          ]
        },
        {
          "output_type": "display_data",
          "data": {
            "text/plain": [
              "<Figure size 432x288 with 1 Axes>"
            ],
            "image/png": "[encoded data removed]"
          },
          "metadata": {
            "needs_background": "light"
          }
        },
        {
          "output_type": "display_data",
          "data": {
            "text/plain": [
              "<Figure size 432x288 with 1 Axes>"
            ],
            "image/png": "[encoded data removed]"
          },
          "metadata": {
            "needs_background": "light"
          }
        }
      ]
    },
    {
      "cell_type": "markdown",
      "source": [
        "# ***Evaluating the model***"
      ],
      "metadata": {
        "id": "YPVKG5AS0zeY"
      }
    },
    {
      "cell_type": "code",
      "source": [
        "predictions, cost, accuracy = network.predict()\n",
        "print(\"Final Cost : \"+str(cost[0]))\n",
        "print(\"Final Accuracy : \"+str(accuracy) +\"%\")"
      ],
      "metadata": {
        "id": "RfqYttaa06on",
        "colab": {
          "base_uri": "https://localhost:8080/"
        },
        "outputId": "4f37260a-7040-42f9-abc5-ec260f8046c1"
      },
      "execution_count": 327,
      "outputs": [
        {
          "output_type": "stream",
          "name": "stdout",
          "text": [
            "Final Cost : 0.588085399109333\n",
            "Final Accuracy : 80.44050476032777%\n"
          ]
        }
      ]
    }
  ]
}